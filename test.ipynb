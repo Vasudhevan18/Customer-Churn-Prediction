{
 "cells": [
  {
   "cell_type": "code",
   "execution_count": 2,
   "id": "c83443e5-0ec7-4e34-b91c-4d11a1fba9d6",
   "metadata": {},
   "outputs": [
    {
     "name": "stdout",
     "output_type": "stream",
     "text": [
      "Model loaded from 'rf_churn_model_improved.pkl'\n",
      "\n",
      "Enter details for a single customer:\n"
     ]
    },
    {
     "name": "stdin",
     "output_type": "stream",
     "text": [
      "Age (18-80):  78\n",
      "Tenure in months (1-60):  2\n",
      "Monthly Charges (20-150):  138\n",
      "Total Charges (e.g., Tenure * Monthly Charges):  270\n",
      "Contract Type (Month-to-month, One year, Two year):  One year\n",
      "Payment Method (Electronic check, Mailed check, Bank transfer, Credit card):  Mailed check\n",
      "Tech Support (Yes/No):  No\n",
      "Internet Service (DSL, Fiber optic, No):  No\n"
     ]
    },
    {
     "name": "stdout",
     "output_type": "stream",
     "text": [
      "\n",
      "Prediction for this customer: Churn\n"
     ]
    },
    {
     "data": {
      "text/plain": [
       "'Churn'"
      ]
     },
     "execution_count": 2,
     "metadata": {},
     "output_type": "execute_result"
    }
   ],
   "source": [
    "#### import pandas as pd\n",
    "import numpy as np\n",
    "from sklearn.preprocessing import LabelEncoder\n",
    "import joblib\n",
    "\n",
    "# Load the saved model\n",
    "model_filename = 'rf_churn_model_improved.pkl'\n",
    "loaded_model = joblib.load(model_filename)\n",
    "print(f\"Model loaded from '{model_filename}'\")\n",
    "\n",
    "# Function to preprocess input data (matches training preprocessing)\n",
    "def preprocess_input(df_input):\n",
    "    le = LabelEncoder()\n",
    "    categorical_cols = ['Contract_Type', 'Payment_Method', 'Tech_Support', 'Internet_Service']\n",
    "    \n",
    "    # Copy input to avoid modifying original\n",
    "    df_processed = df_input.copy()\n",
    "    \n",
    "    # Encode categorical columns\n",
    "    for col in categorical_cols:\n",
    "        # Fit LabelEncoder on the possible categories (same as training)\n",
    "        le.fit(['Month-to-month', 'One year', 'Two year'] if col == 'Contract_Type' else \n",
    "               ['Electronic check', 'Mailed check', 'Bank transfer', 'Credit card'] if col == 'Payment_Method' else \n",
    "               ['Yes', 'No'] if col == 'Tech_Support' else \n",
    "               ['DSL', 'Fiber optic', 'No'])\n",
    "        df_processed[col] = le.transform(df_processed[col])\n",
    "    \n",
    "    return df_processed\n",
    "\n",
    "# Function to predict for a single customer\n",
    "def predict_single_customer():\n",
    "    print(\"\\nEnter details for a single customer:\")\n",
    "    customer_data = {\n",
    "        'Age': int(input(\"Age (18-80): \")),\n",
    "        'Tenure_Months': int(input(\"Tenure in months (1-60): \")),\n",
    "        'Monthly_Charges': float(input(\"Monthly Charges (20-150): \")),\n",
    "        'Total_Charges': float(input(\"Total Charges (e.g., Tenure * Monthly Charges): \")),\n",
    "        'Contract_Type': input(\"Contract Type (Month-to-month, One year, Two year): \"),\n",
    "        'Payment_Method': input(\"Payment Method (Electronic check, Mailed check, Bank transfer, Credit card): \"),\n",
    "        'Tech_Support': input(\"Tech Support (Yes/No): \"),\n",
    "        'Internet_Service': input(\"Internet Service (DSL, Fiber optic, No): \")\n",
    "    }\n",
    "    \n",
    "    # Convert to DataFrame\n",
    "    single_df = pd.DataFrame([customer_data])\n",
    "    \n",
    "    # Preprocess the data\n",
    "    X_single = preprocess_input(single_df)\n",
    "    \n",
    "    # Make prediction\n",
    "    prediction = loaded_model.predict(X_single)[0]\n",
    "    result = 'Churn' if prediction == 1 else 'Not Churn'\n",
    "    \n",
    "    print(f\"\\nPrediction for this customer: {result}\")\n",
    "    return result\n",
    "\n",
    "# Execute the single customer prediction\n",
    "predict_single_customer()"
   ]
  },
  {
   "cell_type": "code",
   "execution_count": null,
   "id": "8fd915df-e6d9-444e-a644-207d4cb29ab2",
   "metadata": {},
   "outputs": [],
   "source": []
  }
 ],
 "metadata": {
  "kernelspec": {
   "display_name": "Python 3 (ipykernel)",
   "language": "python",
   "name": "python3"
  },
  "language_info": {
   "codemirror_mode": {
    "name": "ipython",
    "version": 3
   },
   "file_extension": ".py",
   "mimetype": "text/x-python",
   "name": "python",
   "nbconvert_exporter": "python",
   "pygments_lexer": "ipython3",
   "version": "3.12.0"
  }
 },
 "nbformat": 4,
 "nbformat_minor": 5
}
