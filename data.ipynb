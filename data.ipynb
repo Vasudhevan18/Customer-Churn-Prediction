{
 "cells": [
  {
   "cell_type": "code",
   "execution_count": 8,
   "id": "8c34f6fe-fa27-45d8-b8b5-4fce648da0b9",
   "metadata": {},
   "outputs": [],
   "source": [
    "import pandas as pd\n",
    "import numpy as np\n",
    "# Step 1: Generate a better dataset with correlations\n",
    "np.random.seed(42)\n",
    "n_samples = 1000\n",
    "\n",
    "data = {\n",
    "    'CustomerID': [f'CUST{i:05d}' for i in range(1, n_samples + 1)],\n",
    "    'Age': np.random.randint(18, 80, n_samples),\n",
    "    'Tenure_Months': np.random.randint(1, 60, n_samples),\n",
    "    'Monthly_Charges': np.round(np.random.uniform(20, 150, n_samples), 2),\n",
    "    'Total_Charges': np.zeros(n_samples),  # Placeholder, will calculate later\n",
    "    'Contract_Type': [choice(['Month-to-month', 'One year', 'Two year']) for _ in range(n_samples)],\n",
    "    'Payment_Method': [choice(['Electronic check', 'Mailed check', 'Bank transfer', 'Credit card']) \n",
    "                      for _ in range(n_samples)],\n",
    "    'Tech_Support': [choice(['Yes', 'No']) for _ in range(n_samples)],\n",
    "    'Internet_Service': [choice(['DSL', 'Fiber optic', 'No']) for _ in range(n_samples)],\n",
    "    'Churn': ['Yes'] * 500 + ['No'] * 500  # Balanced classes\n",
    "}\n",
    "\n",
    "df = pd.DataFrame(data)\n",
    "df = df.sample(frac=1, random_state=42).reset_index(drop=True)\n",
    "\n",
    "# Introduce correlations: Churn more likely with short tenure, high charges, no tech support\n",
    "df.loc[df['Churn'] == 'Yes', 'Tenure_Months'] = np.random.randint(1, 20, size=len(df[df['Churn'] == 'Yes']))\n",
    "df.loc[df['Churn'] == 'No', 'Tenure_Months'] = np.random.randint(20, 60, size=len(df[df['Churn'] == 'No']))\n",
    "df.loc[df['Churn'] == 'Yes', 'Monthly_Charges'] = np.round(np.random.uniform(80, 150, size=len(df[df['Churn'] == 'Yes'])), 2)\n",
    "df.loc[df['Churn'] == 'No', 'Monthly_Charges'] = np.round(np.random.uniform(20, 100, size=len(df[df['Churn'] == 'No'])), 2)\n",
    "df.loc[df['Churn'] == 'Yes', 'Tech_Support'] = np.random.choice(['No', 'Yes'], p=[0.8, 0.2], size=len(df[df['Churn'] == 'Yes']))\n",
    "df.loc[df['Churn'] == 'No', 'Tech_Support'] = np.random.choice(['No', 'Yes'], p=[0.3, 0.7], size=len(df[df['Churn'] == 'No']))\n",
    "df['Total_Charges'] = df['Tenure_Months'] * df['Monthly_Charges'] * np.random.uniform(0.9, 1.1, n_samples)\n",
    "\n",
    "# Save updated dataset\n",
    "df.to_csv('customer_churn_dataset_improved.csv', index=False)"
   ]
  },
  {
   "cell_type": "code",
   "execution_count": null,
   "id": "7540a8f9-ed03-429b-8011-2624ecd94acf",
   "metadata": {},
   "outputs": [],
   "source": []
  }
 ],
 "metadata": {
  "kernelspec": {
   "display_name": "Python 3 (ipykernel)",
   "language": "python",
   "name": "python3"
  },
  "language_info": {
   "codemirror_mode": {
    "name": "ipython",
    "version": 3
   },
   "file_extension": ".py",
   "mimetype": "text/x-python",
   "name": "python",
   "nbconvert_exporter": "python",
   "pygments_lexer": "ipython3",
   "version": "3.12.0"
  }
 },
 "nbformat": 4,
 "nbformat_minor": 5
}
